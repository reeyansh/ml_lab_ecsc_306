import tensorflow as tf
with tf.name_scope("MyOpereationGroup):
	with tf.name_scope("A_Square"):
		a = tf.constant(2, name = 'a')
		b = tf.multiply(a,a)
	with tf.name_scope("B_square"):
		c = tf.constant(3, name = 'b')
		d = tf.multiply(c,c)
	with tf.name_scope("C_square"):
		e = tf.constant(4, name = 'c')
		f = tf.multiply(e,e)
	with tf.name_scope("2ab"):
		g = tf.multiply(2,a)
		h = tf.multiply(g,c)
	with tf.name_scope("2ca"):
		i = tf.multiply(2,e)
		j = tf.multiply(a,i)
	with tf.name_scope("2bc"):
		k = tf.multiply(2,c)
		l = tf.multiply(e,k)
	with tf.name_scope("Add_these_numbers"):
		m = tf.add(b,d)
		n = tf.add(m,f)
		o = tf.add(n,j)
		p = tf.subtract(o,h)
		q = tf.subtract(p,l)

with tf.Session() as sess:
	writer =  tf.summary.FileWriter("/tmp/tboard/output4", sess.graph)
	print(sess.run(q))
	writer.close()
	

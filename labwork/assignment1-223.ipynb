{
 "cells": [
  {
   "cell_type": "code",
   "execution_count": 4,
   "metadata": {},
   "outputs": [
    {
     "name": "stdout",
     "output_type": "stream",
     "text": [
      "25\n"
     ]
    }
   ],
   "source": [
    "import tensorflow as tf\n",
    "with tf.name_scope(\"MyfirstEquation\"):\n",
    "    with tf.name_scope(\"Scope_A\"):\n",
    "        a = tf.constant(2)\n",
    "        b = tf.constant(3)\n",
    "        c = tf.multiply(a, a, name=\"Square_of_a\")\n",
    "        d = tf.multiply(b, b, name=\"Square_of_b\")\n",
    "        e = tf.multiply(2, a)\n",
    "        f = tf.multiply(e, b)\n",
    "        g = tf.add(c, d, name=\"And_These_ones\")\n",
    "        h = tf.add(g, f, name=\"And_These_ones\")\n",
    "\n",
    "with tf.Session() as sess:\n",
    "    writer = tf.summary.FileWriter(\"/tmp/tboard/output4\", sess.graph)\n",
    "    print(sess.run(h))\n",
    "    writer.close()\n"
   ]
  },
  {
   "cell_type": "code",
   "execution_count": null,
   "metadata": {
    "collapsed": true
   },
   "outputs": [],
   "source": []
  }
 ],
 "metadata": {
  "kernelspec": {
   "display_name": "Python 3",
   "language": "python",
   "name": "python3"
  },
  "language_info": {
   "codemirror_mode": {
    "name": "ipython",
    "version": 3
   },
   "file_extension": ".py",
   "mimetype": "text/x-python",
   "name": "python",
   "nbconvert_exporter": "python",
   "pygments_lexer": "ipython3",
   "version": "3.6.1"
  }
 },
 "nbformat": 4,
 "nbformat_minor": 2
}

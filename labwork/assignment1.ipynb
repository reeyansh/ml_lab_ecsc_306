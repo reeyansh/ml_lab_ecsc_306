import tensorflow as tf
with tf.name_scope("MyOperationGroup"):
	with tf.name_scope("A_square"):
		a = raw_input("Enter the value of a")
		sq_a = tf.multiply(a,a):
	with tf.name_scope("B_Square"):
		b = raw_input("Enter the value of B")
		sq_b = tf.multiply(b, b)
	with tf.name_scope("2ab"):
		e = tf.multiply(2,a)
		f = tf.multiply(e,b)
	with tf.name_scope("AandBsquare"):
		g = tf.add(sq_a,sq_b)
		h = tf.add(g,f)

with tf.Session() as sess:
	writer = tf.summary.FileWriter("/tmp/tboard/output3", sess.graph)
	print(sess.run(h))
	writer.close()
	
